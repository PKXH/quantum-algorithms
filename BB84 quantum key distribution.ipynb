{
 "cells": [
  {
   "cell_type": "markdown",
   "id": "fiscal-rhythm",
   "metadata": {},
   "source": [
    "This notebook contains an implementation of the BB84 quantum key distribution (QKD) protocol as outlined in the classic quantum cryptography paper [http://dx.doi.org/10.1016/j.tcs.2014.05.025](http://dx.doi.org/10.1016/j.tcs.2014.05.025)."
   ]
  },
  {
   "cell_type": "code",
   "execution_count": 9,
   "id": "victorian-shopper",
   "metadata": {},
   "outputs": [],
   "source": [
    "from random import randint,sample\n",
    "def get_random_bitstring(sz):\n",
    "    return [randint(0,1) for i in range(sz)]"
   ]
  },
  {
   "cell_type": "code",
   "execution_count": 10,
   "id": "monetary-savings",
   "metadata": {},
   "outputs": [],
   "source": [
    "from qiskit import (QuantumCircuit, execute, Aer)"
   ]
  },
  {
   "cell_type": "code",
   "execution_count": 11,
   "id": "sensitive-madness",
   "metadata": {},
   "outputs": [],
   "source": [
    "default_backend = Aer.get_backend('qasm_simulator')"
   ]
  },
  {
   "cell_type": "markdown",
   "id": "responsible-extreme",
   "metadata": {},
   "source": [
    "Define a couple of functions to encode and decode a qubit using the specified measurement basis. In the BB84 protocol, two bases are used. We choose to use $|0\\rangle,|1\\rangle$ (X-basis) and $|+\\rangle,|-\\rangle$ (Z-basis)."
   ]
  },
  {
   "cell_type": "code",
   "execution_count": 12,
   "id": "ignored-avatar",
   "metadata": {},
   "outputs": [],
   "source": [
    "X_BASIS = 0\n",
    "Z_BASIS = 1"
   ]
  },
  {
   "cell_type": "code",
   "execution_count": 13,
   "id": "ready-spyware",
   "metadata": {},
   "outputs": [],
   "source": [
    "def encode_key_bit(qbit, tx_bit, tx_base):\n",
    "    '''\n",
    "    Append encoding of the specified classical bit 'tx_bit' into the specified\n",
    "    base 'tx_base' to the quantum circuit\n",
    "    '''\n",
    "    \n",
    "    # flip the quantum 0 to quantum 1 if we received a '1' bit; otherwise leave \n",
    "    # it as a quantum 0.\n",
    "    if tx_bit:\n",
    "        qbit.x(0)\n",
    "    \n",
    "    # if we're transmitting using the x-basis, then leave it in the x-basis;\n",
    "    # otherwise flip the qubit into the z-basis    \n",
    "    if tx_base == Z_BASIS:\n",
    "        qbit.h(0)            \n",
    "        \n",
    "    return qbit"
   ]
  },
  {
   "cell_type": "code",
   "execution_count": 14,
   "id": "dominant-niger",
   "metadata": {},
   "outputs": [],
   "source": [
    "def decode_key_bit(qbit, rx_base):\n",
    "    '''\n",
    "    Append measurement of the specified qubit 'qbit' in the specified base 'rx_base'\n",
    "    to the quantum circuit\n",
    "    '''\n",
    "\n",
    "    # flip the qubit if we're measureing in the Z_BASIS so if the qubit\n",
    "    # is originally in the X_BASIS, it will not be in superposition. Then\n",
    "    # go ahead and measure it.\n",
    "    if rx_base == Z_BASIS:\n",
    "        qbit.h(0)    \n",
    "    qbit.measure([0],[0])\n",
    "    return qbit"
   ]
  },
  {
   "cell_type": "markdown",
   "id": "bright-suffering",
   "metadata": {},
   "source": [
    "Test out quantum encode/decode functions by plugging in a datum value and some tx/rx bases and verify that the full circuit looks as expected for the specified configuration (the barrier indicates the separation between the tx and rx portions of the full quantum circuit)."
   ]
  },
  {
   "cell_type": "code",
   "execution_count": 15,
   "id": "chinese-initial",
   "metadata": {},
   "outputs": [
    {
     "data": {
      "image/png": "[encoded data removed]",
      "text/plain": [
       "<Figure size 374.326x144.48 with 1 Axes>"
      ]
     },
     "execution_count": 15,
     "metadata": {},
     "output_type": "execute_result"
    }
   ],
   "source": [
    "datum = 1\n",
    "tx_base = 1\n",
    "rx_base = 1\n",
    "\n",
    "test_qc = QuantumCircuit(1,1)\n",
    "test_qc = encode_key_bit(test_qc,datum,tx_base)\n",
    "test_qc.barrier(0)\n",
    "test_qc = decode_key_bit(test_qc,rx_base)\n",
    "\n",
    "test_qc.draw('mpl')"
   ]
  },
  {
   "cell_type": "markdown",
   "id": "distinguished-smooth",
   "metadata": {},
   "source": [
    "Choose the pre-cull key bit length, create a secret key, and select random measurement bases for both Alice and Bob. We'll use the following bit + base coding scheme:\n",
    "\n",
    "| Alice's secret bit from `random_tx_bits` | Corresponding bit in `random_tx_bases` | Encoding basis | Qubit state sent |\n",
    "|:----------------:|:--------------------------:|:--------------------------:|:---------------:|\n",
    "| 0 | 0 | $$|0\\rangle,|1\\rangle$$ |$$|0\\rangle$$ |\n",
    "| 0 | 1 | $$|+\\rangle,|-\\rangle$$ |$$|+\\rangle$$ |\n",
    "| 1 | 0 | $$|0\\rangle,|1\\rangle$$ |$$|1\\rangle$$ |\n",
    "| 1 | 1 | $$|+\\rangle,|-\\rangle$$ |$$|-\\rangle$$ |"
   ]
  },
  {
   "cell_type": "code",
   "execution_count": 16,
   "id": "nervous-limit",
   "metadata": {},
   "outputs": [],
   "source": [
    "num_bits = 32"
   ]
  },
  {
   "cell_type": "code",
   "execution_count": 17,
   "id": "subsequent-seeking",
   "metadata": {},
   "outputs": [],
   "source": [
    "# set up Alice's transmission bits\n",
    "random_tx_bits = get_random_bitstring(num_bits)\n",
    "random_tx_bases = get_random_bitstring(num_bits)"
   ]
  },
  {
   "cell_type": "code",
   "execution_count": 18,
   "id": "expressed-villa",
   "metadata": {},
   "outputs": [],
   "source": [
    "# set up Bob's receiving bits\n",
    "random_rx_bases = get_random_bitstring(num_bits)\n",
    "decoded_rx_bits = []"
   ]
  },
  {
   "cell_type": "markdown",
   "id": "muslim-exception",
   "metadata": {},
   "source": [
    "Create a couple of classes to simulate the interface with shared quantum and classical channels."
   ]
  },
  {
   "cell_type": "code",
   "execution_count": 19,
   "id": "future-receptor",
   "metadata": {},
   "outputs": [],
   "source": [
    "class SharedChannel:\n",
    "    \n",
    "    def __init__(self):\n",
    "        self.datum = None\n",
    "        self.active = False\n",
    "    \n",
    "    def transmit_datum(self, datum):\n",
    "        self.datum = datum\n",
    "        self.active = True\n",
    "        \n",
    "    def receive_datum(self):\n",
    "        return_datum = self.datum\n",
    "        self.active = False\n",
    "        self.datum = []\n",
    "        return return_datum"
   ]
  },
  {
   "cell_type": "code",
   "execution_count": 20,
   "id": "reverse-biodiversity",
   "metadata": {},
   "outputs": [],
   "source": [
    "class SharedQuantumChannel(SharedChannel):\n",
    "    def __init__(self):\n",
    "        super().__init__()"
   ]
  },
  {
   "cell_type": "code",
   "execution_count": 21,
   "id": "thirty-labor",
   "metadata": {},
   "outputs": [],
   "source": [
    "class SharedClassicalChannel(SharedChannel):\n",
    "    def __init__(self):\n",
    "        super().__init__()\n",
    "        \n",
    "    def transmit_data(self, datum):\n",
    "        super().transmit_datum(datum)\n",
    "        \n",
    "    def receive_data(self):\n",
    "        return super().receive_datum()"
   ]
  },
  {
   "cell_type": "code",
   "execution_count": 22,
   "id": "ranking-march",
   "metadata": {},
   "outputs": [],
   "source": [
    "# create shared quantum and classical channels that Alice and Bob will\n",
    "# use to communicate to each other\n",
    "sqc = SharedQuantumChannel()\n",
    "scc = SharedClassicalChannel()"
   ]
  },
  {
   "cell_type": "markdown",
   "id": "combined-culture",
   "metadata": {},
   "source": [
    "Smoke test"
   ]
  },
  {
   "cell_type": "code",
   "execution_count": 23,
   "id": "sophisticated-georgia",
   "metadata": {},
   "outputs": [
    {
     "name": "stdout",
     "output_type": "stream",
     "text": [
      "1\n"
     ]
    }
   ],
   "source": [
    "scc.transmit_datum('1')\n",
    "print(scc.receive_datum())"
   ]
  },
  {
   "cell_type": "markdown",
   "id": "missing-senior",
   "metadata": {},
   "source": [
    "<b>Run the BB84 QKD protocol.</b> Alice has a secret encryption key she wants to share with Bob, without a potential eavesdropper, Eve, also getting a hold of the key. Eve can intercept information on both the quantum and classical channels (but is not allowed to actively delete or alter information on the classical channel). In a nutshell, Alice can share her key with Bob and know that Eve didn't intercept it on the quantum channel with the following protocol:\n",
    "\n",
    "1. Alice encodes each qubit onto the shared quantum channel one-by-one, using a randomly selected basis, and Bob decodes them, also using a randomly selected basis for each measurement. \n",
    "\n",
    "2. Bob then sends Alice the list of bases he used for the decoding on the classical channel, and Alice compares them to the ones she used to encode the qubits. \n",
    "\n",
    "3. Alice uses the classical channel to inform Bob which ones he guessed right, and then both Alice & Bob throw away the qubits that were decoded using the wrong base.\n",
    "\n",
    "4. Bob selects a subset of what's left and sends them back to Alice on the classical channel, along with their associated indices.\n",
    "\n",
    "5. Alice checks Bob's results with the bits of her own secret key. If they all match, then Alice is assured that there was no eavesdropper on the quantum channel.\n",
    "\n",
    "6. Alice and Bob discard the check bits, and now share the secret key."
   ]
  },
  {
   "cell_type": "code",
   "execution_count": 24,
   "id": "bright-vulnerability",
   "metadata": {},
   "outputs": [
    {
     "name": "stdout",
     "output_type": "stream",
     "text": [
      "skey: [1, 1, 0, 1, 0, 0, 0, 0, 0, 1, 1, 1]\n",
      "rkey: [1, 1, 0, 1, 0, 0, 0, 0, 0, 1, 1, 1]\n"
     ]
    }
   ],
   "source": [
    "# Clear decoded bits list and transmit the qbits one by one until the \n",
    "# receiver has measured every one    \n",
    "\n",
    "decoded_rx_bits = []\n",
    "for i in range(num_bits):\n",
    "    \n",
    "    # create a qubit, encode it, transmit it, receive it, \n",
    "    # and decode it\n",
    "    qbit = QuantumCircuit(1,1)\n",
    "    tx_qbit = encode_key_bit(qbit, random_tx_bits[i], random_tx_bases[i])\n",
    "    sqc.transmit_datum(tx_qbit)\n",
    "    rx_qbit = sqc.receive_datum()\n",
    "    full_circuit = decode_key_bit(rx_qbit, random_rx_bases[i])\n",
    "\n",
    "    job = execute(full_circuit, backend=default_backend, shots=1)\n",
    "    results = job.result()\n",
    "    counts = results.get_counts()    \n",
    "    decoded_rx_bits.append(int(max(counts, key=counts.get)))\n",
    "    \n",
    "# decoder reports rx bases to transmitter\n",
    "scc.transmit_data(random_rx_bases)\n",
    "rx_bases_used = scc.receive_data()\n",
    "\n",
    "# sender determines which random rx bases were right\n",
    "assert(len(rx_bases_used) == len(random_tx_bits))\n",
    "rx_base_hits = [rx_bases_used[i] == random_tx_bases[i] for i in range(len(random_tx_bits))]\n",
    "\n",
    "# sender notifies receiver of key hits\n",
    "scc.transmit_data(rx_base_hits)\n",
    "rcvd_rx_base_hits = scc.receive_data()\n",
    "\n",
    "# sender and receiver drop non-hit key bits\n",
    "sender_key_candidate   = [j for i,j in enumerate(random_tx_bits) if rx_base_hits[i]]\n",
    "receiver_key_candidate = [j for i,j in enumerate(decoded_rx_bits) if rcvd_rx_base_hits[i]]\n",
    "assert(sender_key_candidate == receiver_key_candidate)\n",
    "\n",
    "# the receiver chooses some verification bits (1/4th of the decoded key bits)\n",
    "num_verify_bits = len(receiver_key_candidate)//4\n",
    "verify_bits_ix = sample(range(len(receiver_key_candidate)), num_verify_bits)\n",
    "verify_bits = {i:receiver_key_candidate[i] for i in verify_bits_ix}\n",
    "\n",
    "# the receiver shares verification bits with sender\n",
    "scc.transmit_data(verify_bits)\n",
    "chk_verify_bits = scc.receive_data()\n",
    "assert(verify_bits == chk_verify_bits)\n",
    "\n",
    "# verify the check bits\n",
    "verified = all([verify_bits[i] == sender_key_candidate[i] for i in verify_bits.keys()])\n",
    "\n",
    "# if the check bits check out, strip them out of the key and we're done\n",
    "if verified:\n",
    "    sender_key   = [j for i,j in enumerate(sender_key_candidate) if i not in chk_verify_bits.keys()]\n",
    "    receiver_key = [j for i,j in enumerate(receiver_key_candidate) if i not in verify_bits.keys()]\n",
    "    assert(sender_key == receiver_key)\n",
    "    \n",
    "print('skey: ' + str(sender_key))\n",
    "print('rkey: ' + str(receiver_key))"
   ]
  },
  {
   "cell_type": "code",
   "execution_count": null,
   "id": "separate-drove",
   "metadata": {},
   "outputs": [],
   "source": []
  }
 ],
 "metadata": {
  "kernelspec": {
   "display_name": "Python 3",
   "language": "python",
   "name": "python3"
  },
  "language_info": {
   "codemirror_mode": {
    "name": "ipython",
    "version": 3
   },
   "file_extension": ".py",
   "mimetype": "text/x-python",
   "name": "python",
   "nbconvert_exporter": "python",
   "pygments_lexer": "ipython3",
   "version": "3.9.2"
  }
 },
 "nbformat": 4,
 "nbformat_minor": 5
}
